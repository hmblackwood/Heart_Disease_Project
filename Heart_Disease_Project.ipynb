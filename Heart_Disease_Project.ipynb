{
  "nbformat": 4,
  "nbformat_minor": 0,
  "metadata": {
    "colab": {
      "provenance": [],
      "authorship_tag": "ABX9TyN/BX6IBmrY/usiH7Lnu7i8",
      "include_colab_link": true
    },
    "kernelspec": {
      "name": "python3",
      "display_name": "Python 3"
    },
    "language_info": {
      "name": "python"
    }
  },
  "cells": [
    {
      "cell_type": "markdown",
      "metadata": {
        "id": "view-in-github",
        "colab_type": "text"
      },
      "source": [
        "<a href=\"https://colab.research.google.com/github/hmblackwood/Heart_Disease_Project/blob/main/Heart_Disease_Project.ipynb\" target=\"_parent\"><img src=\"https://colab.research.google.com/assets/colab-badge.svg\" alt=\"Open In Colab\"/></a>"
      ]
    },
    {
      "cell_type": "markdown",
      "source": [
        "#🫀 The Heart Disease Project 🫀\n",
        "\n",
        "# Summary:\n",
        "- Using ___, I created a machine learning model that determines whether someone has heart disease based on their medical attributes\n",
        "- Python libraries used: NumPy, Pandas, Matplotlib, Seaborn, Scikit-Learn\n",
        "- Logistic regression, K Nearest Neighbors, Random Forest Classifier\n",
        "\n",
        "\n",
        "##1. Problem\n",
        "Given clinical parameters about a patient, can I predict whether or not they have heart disease?\n",
        "\n",
        "\n",
        "##2. Data\n",
        "The original data came from the Cleavland data from the UCI Machine Learning Repository.\n",
        "https://archive.ics.uci.edu/ml/datasets/heart+Disease\n",
        "\n",
        "\n",
        "##3. Machine Learning Model\n",
        "I created a model using ______\n",
        "\n",
        "\n",
        "##4. Evaluation\n",
        "If I can reach 95% accuracy at predicting whether or not a patient has heart disease, I will consider that a success.\n",
        "I will evaluate the model using a confusion matric, classification report, precision score, recall score, F1 score an ROC graph.\n",
        "\n",
        "\n",
        "##5. Features of the Data\n"
      ],
      "metadata": {
        "id": "m_58xGJeHLN0"
      }
    },
    {
      "cell_type": "markdown",
      "source": [
        "# Data Dictionary\n",
        "1. age - age in years\n",
        "2. sex - (1 = male; 0 = female)\n",
        "3. cp - chest pain type\n",
        "    * 0: Typical angina: chest pain related decrease blood supply to the heart\n",
        "    * 1: Atypical angina: chest pain not related to heart\n",
        "    * 2: Non-anginal pain: typically esophageal spasms (non heart related)\n",
        "    * 3: Asymptomatic: chest pain not showing signs of disease\n",
        "4. trestbps - resting blood pressure (in mm Hg on admission to the hospital) anything above 130-140 is typically cause for concern\n",
        "5. chol - serum cholestoral in mg/dl\n",
        "    * serum = LDL + HDL + .2 * triglycerides\n",
        "    * above 200 is cause for concern\n",
        "6. fbs - (fasting blood sugar > 120 mg/dl) (1 = true; 0 = false)\n",
        "    * '>126' mg/dL signals diabetes\n",
        "7. restecg - resting electrocardiographic results\n",
        "    * 0: Nothing to note\n",
        "    * 1: ST-T Wave abnormality\n",
        "        * can range from mild symptoms to severe problems\n",
        "        * signals non-normal heart beat\n",
        "    * 2: Possible or definite left ventricular hypertrophy\n",
        "        * Enlarged heart's main pumping chamber\n",
        "8. thalach - maximum heart rate achieved\n",
        "9. exang - exercise induced angina (1 = yes; 0 = no)\n",
        "10. oldpeak - ST depression induced by exercise relative to rest looks at stress of heart during excercise unhealthy heart will stress more\n",
        "11. slope - the slope of the peak exercise ST segment\n",
        "    * 0: Upsloping: better heart rate with excercise (uncommon)\n",
        "    * 1: Flatsloping: minimal change (typical healthy heart)\n",
        "    * 2: Downslopins: signs of unhealthy heart\n",
        "12. ca - number of major vessels (0-3) colored by flourosopy\n",
        "    * colored vessel means the doctor can see the blood passing through\n",
        "    * the more blood movement the better (no clots)\n",
        "13. thal - thalium stress result\n",
        "    * 1,3: normal\n",
        "    * 6: fixed defect: used to be defect but ok now\n",
        "    * 7: reversable defect: no proper blood movement when excercising\n",
        "14. target - have disease or not (1=yes, 0=no) (= the predicted attribute)s, 0=no) (= the predicted attribute)et"
      ],
      "metadata": {
        "id": "DkRvYL9ZHICN"
      }
    },
    {
      "cell_type": "markdown",
      "source": [
        "# Preparing the Tools"
      ],
      "metadata": {
        "id": "HfdMBJYRJ0M2"
      }
    },
    {
      "cell_type": "code",
      "source": [],
      "metadata": {
        "id": "opiK8LlIKNHM"
      },
      "execution_count": null,
      "outputs": []
    },
    {
      "cell_type": "code",
      "source": [
        "import numpy as np\n",
        "import pandas as pd\n",
        "import matplotlib.pyplot as plt\n",
        "import seaborn as sns\n",
        "\n",
        "# Plots will appear inside notebook\n",
        "%matplotlib inline\n",
        "\n",
        "#"
      ],
      "metadata": {
        "id": "3s9LqQFFJ7j3"
      },
      "execution_count": null,
      "outputs": []
    }
  ]
}